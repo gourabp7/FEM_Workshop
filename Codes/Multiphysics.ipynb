{
  "cells": [
    {
      "cell_type": "code",
      "execution_count": null,
      "metadata": {
        "id": "rwk5ZgmlflyR"
      },
      "outputs": [],
      "source": [
        "#please run twice\n",
        "try:\n",
        "    import dolfinx\n",
        "except ImportError:\n",
        "    !wget \"https://github.com/fem-on-colab/fem-on-colab.github.io/raw/9b21f39/releases/fenicsx-install-real.sh\" -O \"/tmp/fenicsx-install.sh\" && bash \"/tmp/fenicsx-install.sh\"\n",
        "    import dolfinx"
      ]
    },
    {
      "cell_type": "code",
      "execution_count": null,
      "metadata": {
        "id": "0K8dbj3tgggF"
      },
      "outputs": [],
      "source": [
        "!apt-get install -qq xvfb libgl1-mesa-glx\n",
        "!pip install pyvista -qq\n",
        "import pyvista\n",
        "pyvista.global_theme.jupyter_backend = 'static'\n",
        "pyvista.global_theme.notebook = True"
      ]
    },
    {
      "cell_type": "code",
      "execution_count": null,
      "metadata": {
        "id": "5RujLD-HGtWn"
      },
      "outputs": [],
      "source": [
        "!pip install pyvistaqt\n",
        "!pip install pyqt5-tools"
      ]
    },
    {
      "cell_type": "code",
      "execution_count": 4,
      "metadata": {
        "id": "c48772_dgoKh"
      },
      "outputs": [],
      "source": [
        "import numpy as np\n",
        "from petsc4py import PETSc\n",
        "assert not np.issubdtype(PETSc.ScalarType, np.complexfloating)\n",
        "import numpy as np\n",
        "import pyvista\n",
        "from dolfinx.fem import (Constant, dirichletbc, Function, FunctionSpace, assemble_scalar,\n",
        "                         form, locate_dofs_geometrical, locate_dofs_topological)\n",
        "from dolfinx.fem.petsc import LinearProblem\n",
        "from dolfinx.io import XDMFFile\n",
        "from dolfinx.mesh import create_unit_square, locate_entities\n",
        "from dolfinx.plot import create_vtk_mesh\n",
        "from ufl import (SpatialCoordinate, TestFunction, TrialFunction,\n",
        "                 dx, grad, inner)\n",
        "\n",
        "from mpi4py import MPI\n",
        "from petsc4py.PETSc import ScalarType\n",
        "\n",
        "pyvista.start_xvfb()\n",
        "import ufl"
      ]
    },
    {
      "attachments": {},
      "cell_type": "markdown",
      "metadata": {
        "id": "2Nt54CJDPhfO"
      },
      "source": [
        "ThermoElasticity"
      ]
    },
    {
      "cell_type": "code",
      "execution_count": 5,
      "metadata": {
        "id": "lSNmPPJKg3ii"
      },
      "outputs": [],
      "source": [
        "domain = create_unit_square(MPI.COMM_WORLD, 10, 10)"
      ]
    },
    {
      "cell_type": "code",
      "execution_count": 6,
      "metadata": {
        "id": "IeyM3RVmhQeG"
      },
      "outputs": [],
      "source": [
        "u_1 = ufl.VectorElement(\"CG\", domain.ufl_cell(), 1)\n",
        "t_1 = ufl.FiniteElement(\"CG\", domain.ufl_cell(), 2)\n",
        "mixed_elem=u_1*t_1\n",
        "\n",
        "V = FunctionSpace(domain, mixed_elem)\n",
        "\n",
        "U_ = TestFunction(V)\n",
        "(u_, Theta_) = ufl.split(U_)\n",
        "dU = TrialFunction(V)\n",
        "(du, dTheta) = ufl.split(dU)"
      ]
    },
    {
      "cell_type": "code",
      "execution_count": 7,
      "metadata": {
        "id": "CE1rYLyJdf5r"
      },
      "outputs": [],
      "source": [
        "# boundary markers\n",
        "def sides(x):\n",
        "    return np.logical_or(np.isclose(x[0],0), np.isclose(x[0],1))\n",
        "\n",
        "def bound(x):\n",
        "    a=np.logical_or(np.isclose(x[0],0), np.isclose(x[0],1))\n",
        "    b=np.logical_or(np.isclose(x[1],0), np.isclose(x[1],1))\n",
        "    return np.logical_or(a, b)\n",
        "\n",
        "sides_facets = dolfinx.mesh.locate_entities_boundary(domain, domain.topology.dim - 1, sides)\n",
        "all_facets = dolfinx.mesh.locate_entities_boundary(domain, domain.topology.dim - 1, bound)"
      ]
    },
    {
      "cell_type": "code",
      "execution_count": 8,
      "metadata": {
        "id": "4Awx1l_Vh2zE"
      },
      "outputs": [],
      "source": [
        "V0, submap0 = V.sub(0).collapse()\n",
        "V1, submap = V.sub(1).collapse()\n",
        " # Define block boundary conditions\n",
        "bdofs_D = dolfinx.fem.locate_dofs_topological(V0, domain.topology.dim - 1, sides_facets)\n",
        "bdofs_T = dolfinx.fem.locate_dofs_topological(V1, domain.topology.dim - 1, all_facets)\n",
        "\n",
        "u_0 = np.array((0,) * domain.geometry.dim, dtype=PETSc.ScalarType)\n",
        "\n",
        "\n",
        "bc2 = dolfinx.fem.dirichletbc(PETSc.ScalarType(0), bdofs_T, V1)\n",
        "\n",
        "bc1 = dolfinx.fem.dirichletbc(u_0, bdofs_D, V0)"
      ]
    },
    {
      "cell_type": "code",
      "execution_count": 9,
      "metadata": {
        "id": "cKlWg99MtC2n"
      },
      "outputs": [],
      "source": [
        "def eps(v):\n",
        "    return ufl.sym(grad(v))\n",
        "\n",
        "\n",
        "def sigma(v, Theta):\n",
        "    return (ufl.tr(eps(v)) - Theta)*ufl.Identity(2) + 2*eps(v)"
      ]
    },
    {
      "cell_type": "code",
      "execution_count": 10,
      "metadata": {
        "id": "oBLcoR3yiIYz"
      },
      "outputs": [],
      "source": [
        "f=Constant(domain, ScalarType((0, 0)))\n",
        "f1=Constant(domain, ScalarType((1)))"
      ]
    },
    {
      "cell_type": "code",
      "execution_count": 11,
      "metadata": {
        "id": "9H8fOcrgdHtH"
      },
      "outputs": [],
      "source": [
        "\n",
        "therm_a = ufl.dot(grad(Theta_),grad(dTheta))*dx\n",
        "mech_a = inner(sigma(du, dTheta), eps(u_))*dx\n",
        "\n",
        "a=mech_a+therm_a\n",
        "\n",
        "L=ufl.dot(f,du)*dx+f1*dTheta*dx\n",
        "\n",
        "problem = LinearProblem(a, L, bcs=[bc1, bc2], petsc_options={\"ksp_type\": \"preonly\", \"pc_type\": \"lu\"})\n",
        "uh = problem.solve()"
      ]
    },
    {
      "attachments": {},
      "cell_type": "markdown",
      "metadata": {
        "id": "Ya0iOj9FPXsM"
      },
      "source": [
        "Cahn-Hilliard Equation:\n",
        "\n",
        "https://docs.fenicsproject.org/dolfinx/v0.6.0/python/demos/demo_cahn-hilliard.html"
      ]
    },
    {
      "cell_type": "code",
      "execution_count": 12,
      "metadata": {
        "id": "EJPHzerco-1S"
      },
      "outputs": [],
      "source": [
        "import os\n",
        "\n",
        "import numpy as np\n",
        "\n",
        "import ufl\n",
        "from dolfinx import log, plot\n",
        "from dolfinx.fem import Function, FunctionSpace\n",
        "from dolfinx.fem.petsc import NonlinearProblem\n",
        "from dolfinx.io import XDMFFile\n",
        "from dolfinx.mesh import CellType, create_unit_square\n",
        "from dolfinx.nls.petsc import NewtonSolver\n",
        "from ufl import dx, grad, inner\n",
        "\n",
        "from mpi4py import MPI\n",
        "from petsc4py import PETSc\n",
        "\n",
        "try:\n",
        "    import pyvista as pv\n",
        "    import pyvistaqt as pvqt\n",
        "    have_pyvista = True\n",
        "    if pv.OFF_SCREEN:\n",
        "        pv.start_xvfb(wait=0.5) \n",
        "except ModuleNotFoundError:\n",
        "    print(\"pyvista and pyvistaqt are required to visualise the solution\")\n",
        "    have_pyvista = False\n",
        " \n",
        "# Save all logging to file\n",
        "log.set_output_file(\"log.txt\")"
      ]
    },
    {
      "cell_type": "code",
      "execution_count": 13,
      "metadata": {
        "id": "6yMlnG-lJzM4"
      },
      "outputs": [],
      "source": [
        "have_pyvista=False"
      ]
    },
    {
      "cell_type": "code",
      "execution_count": 14,
      "metadata": {
        "id": "09M2mhV2pIVZ"
      },
      "outputs": [],
      "source": [
        "lmbda = 1.0e-02  # surface parameter\n",
        "dt = 5.0e-06  # time step\n",
        "theta = 0.5  # time stepping family, e.g. theta=1 -> backward Euler, theta=0.5 -> Crank-Nicholson"
      ]
    },
    {
      "cell_type": "code",
      "execution_count": 15,
      "metadata": {
        "id": "FEunbN5IpNzx"
      },
      "outputs": [],
      "source": [
        "msh = create_unit_square(MPI.COMM_WORLD, 96, 96, CellType.triangle)\n",
        "P1 = ufl.FiniteElement(\"Lagrange\", msh.ufl_cell(), 1)\n",
        "ME = FunctionSpace(msh, P1 * P1)"
      ]
    },
    {
      "cell_type": "code",
      "execution_count": 16,
      "metadata": {
        "id": "9Oz3HNvJpRSj"
      },
      "outputs": [],
      "source": [
        "q, v = ufl.TestFunctions(ME)"
      ]
    },
    {
      "cell_type": "code",
      "execution_count": 17,
      "metadata": {
        "id": "EAVR-9yUpVF0"
      },
      "outputs": [],
      "source": [
        "u = Function(ME)  # current solution\n",
        "u0 = Function(ME)  # solution from previous converged step\n",
        "\n",
        "# Split mixed functions\n",
        "c, mu = ufl.split(u)\n",
        "c0, mu0 = ufl.split(u0)"
      ]
    },
    {
      "cell_type": "code",
      "execution_count": 18,
      "metadata": {
        "id": "fAe52RHCpjq9"
      },
      "outputs": [],
      "source": [
        "# Zero u\n",
        "u.x.array[:] = 0.0\n",
        "\n",
        "# Interpolate initial condition\n",
        "u.sub(0).interpolate(lambda x: 0.63 + 0.02 * (0.5 - np.random.rand(x.shape[1])))\n",
        "u.x.scatter_forward()"
      ]
    },
    {
      "cell_type": "code",
      "execution_count": 19,
      "metadata": {
        "id": "RBVKp4eIt5g2"
      },
      "outputs": [],
      "source": [
        "# Compute the chemical potential df/dc\n",
        "c = ufl.variable(c)\n",
        "f = 100 * c**2 * (1 - c)**2\n",
        "dfdc = ufl.diff(f, c)"
      ]
    },
    {
      "cell_type": "code",
      "execution_count": 20,
      "metadata": {
        "id": "SYlD7leWunbF"
      },
      "outputs": [],
      "source": [
        "# mu_(n+theta)\n",
        "mu_mid = (1.0 - theta) * mu0 + theta * mu"
      ]
    },
    {
      "cell_type": "code",
      "execution_count": 21,
      "metadata": {
        "id": "7_zirKuYuxIt"
      },
      "outputs": [],
      "source": [
        "# Weak statement of the equations\n",
        "F0 = inner(c, q) * dx - inner(c0, q) * dx + dt * inner(grad(mu_mid), grad(q)) * dx\n",
        "F1 = inner(mu, v) * dx - inner(dfdc, v) * dx - lmbda * inner(grad(c), grad(v)) * dx\n",
        "F = F0 + F1"
      ]
    },
    {
      "cell_type": "code",
      "execution_count": 22,
      "metadata": {
        "id": "93uQ__zgvVZH"
      },
      "outputs": [],
      "source": [
        "#Create nonlinear problem and Newton solver\n",
        "problem = NonlinearProblem(F, u)\n",
        "solver = NewtonSolver(MPI.COMM_WORLD, problem)\n",
        "solver.convergence_criterion = \"incremental\"\n",
        "solver.rtol = 1e-6\n",
        "\n",
        "# We can customize the linear solver used inside the NewtonSolver by\n",
        "# modifying the PETSc options\n",
        "ksp = solver.krylov_solver\n",
        "opts = PETSc.Options()\n",
        "option_prefix = ksp.getOptionsPrefix()\n",
        "opts[f\"{option_prefix}ksp_type\"] = \"preonly\"\n",
        "opts[f\"{option_prefix}pc_type\"] = \"lu\"\n",
        "ksp.setFromOptions()"
      ]
    },
    {
      "cell_type": "code",
      "execution_count": null,
      "metadata": {
        "id": "Jh_tRcVyKbDJ"
      },
      "outputs": [],
      "source": [
        "#Output file\n",
        "file = XDMFFile(MPI.COMM_WORLD, \"demo_ch/output.xdmf\", \"w\")\n",
        "file.write_mesh(msh)\n",
        "\n",
        "# Step in time\n",
        "t = 0.0\n",
        "\n",
        "#  Reduce run time if on test (CI) server\n",
        "if \"CI\" in os.environ.keys() or \"GITHUB_ACTIONS\" in os.environ.keys():\n",
        "    T = 3 * dt\n",
        "else:\n",
        "    T = 50 * dt\n",
        "\n",
        "# Get the sub-space for c and the corresponding dofs in the mixed space\n",
        "# vector\n",
        "V0, dofs = ME.sub(0).collapse()\n",
        "\n",
        "# Prepare viewer for plotting the solution during the computation\n",
        "if have_pyvista:\n",
        "    # Create a VTK 'mesh' with 'nodes' at the function dofs\n",
        "    topology, cell_types, x = plot.create_vtk_mesh(V0)\n",
        "    grid = pv.UnstructuredGrid(topology, cell_types, x)\n",
        "\n",
        "    # Set output data\n",
        "    grid.point_data[\"c\"] = u.x.array[dofs].real\n",
        "    grid.set_active_scalars(\"c\")\n",
        "\n",
        "    p = pvqt.BackgroundPlotter(title=\"concentration\", auto_update=True)\n",
        "    p.add_mesh(grid, clim=[0, 1])\n",
        "    p.view_xy(True)\n",
        "    p.add_text(f\"time: {t}\", font_size=12, name=\"timelabel\")\n",
        "\n",
        "c = u.sub(0)\n",
        "u0.x.array[:] = u.x.array\n",
        "while (t < T):\n",
        "    t += dt\n",
        "    r = solver.solve(u)\n",
        "    print(f\"Step {int(t/dt)}: num iterations: {r[0]}\")\n",
        "    u0.x.array[:] = u.x.array\n",
        "    file.write_function(c, t)\n",
        "\n",
        "    # Update the plot window\n",
        "    if have_pyvista:\n",
        "        p.add_text(f\"time: {t:.2e}\", font_size=12, name=\"timelabel\")\n",
        "        grid.point_data[\"c\"] = u.x.array[dofs].real\n",
        "        p.app.processEvents()\n",
        "\n",
        "file.close()\n",
        "\n",
        "# Update ghost entries and plot\n",
        "if have_pyvista:\n",
        "    u.x.scatter_forward()\n",
        "    grid.point_data[\"c\"] = u.x.array[dofs].real\n",
        "    screenshot = None\n",
        "    if pv.OFF_SCREEN:\n",
        "        screenshot = \"c.png\"\n",
        "    pv.plot(grid, show_edges=True, screenshot=screenshot)"
      ]
    }
  ],
  "metadata": {
    "colab": {
      "provenance": []
    },
    "kernelspec": {
      "display_name": "Python 3",
      "name": "python3"
    },
    "language_info": {
      "name": "python"
    }
  },
  "nbformat": 4,
  "nbformat_minor": 0
}
