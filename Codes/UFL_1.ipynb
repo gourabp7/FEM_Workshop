{
  "cells": [
    {
      "attachments": {},
      "cell_type": "markdown",
      "metadata": {
        "id": "XZxHIWViqc26"
      },
      "source": [
        "# Boundaries and UFL in FEniCSx 1\n",
        "\n",
        "\n",
        "## Practice Code for Boundary and UFL\n",
        "\n",
        "Date: 22nd May 2023"
      ]
    },
    {
      "cell_type": "code",
      "execution_count": null,
      "metadata": {
        "id": "wW6wcxhmqWxj"
      },
      "outputs": [],
      "source": [
        "#please run twice\n",
        "try:\n",
        "    import dolfinx\n",
        "except ImportError:\n",
        "    !wget \"https://github.com/fem-on-colab/fem-on-colab.github.io/raw/9b21f39/releases/fenicsx-install-real.sh\" -O \"/tmp/fenicsx-install.sh\" && bash \"/tmp/fenicsx-install.sh\"\n",
        "    import dolfinx"
      ]
    },
    {
      "cell_type": "code",
      "execution_count": 68,
      "metadata": {
        "id": "oud83g8TrNN_"
      },
      "outputs": [],
      "source": [
        "try:\n",
        "    import viskex\n",
        "except ImportError:\n",
        "    !pip3 install \"viskex@git+https://github.com/viskex/viskex.git@8895f22\"\n",
        "    import viskex\n"
      ]
    },
    {
      "cell_type": "code",
      "execution_count": 69,
      "metadata": {
        "id": "f0FuGVHErzTL"
      },
      "outputs": [],
      "source": [
        "from ufl import *\n",
        "import ufl\n",
        "import numpy\n",
        "\n",
        "from mpi4py import MPI\n",
        "from petsc4py import PETSc\n",
        "\n",
        "from dolfinx import mesh, fem, io, nls, log"
      ]
    },
    {
      "cell_type": "code",
      "execution_count": 70,
      "metadata": {
        "id": "Hf7NcG3mtqBN"
      },
      "outputs": [],
      "source": [
        "# the mesh creation\n",
        "domain = mesh.create_unit_square(MPI.COMM_WORLD, 50, 50)\n",
        "#the mesh is 2 dimensional unit square\n"
      ]
    },
    {
      "cell_type": "markdown",
      "metadata": {
        "id": "S2a5Ne7vt-Wf"
      },
      "source": [
        "UFL: Unified Form Language\n",
        "\n",
        "\n",
        "---\n",
        "\n",
        "\n",
        "# x : $\\vec{r}$\n",
        "\n",
        "dimension of x comes from the domain  \n",
        "\n"
      ]
    },
    {
      "cell_type": "code",
      "execution_count": 71,
      "metadata": {
        "id": "auKecVKEt3Jg"
      },
      "outputs": [],
      "source": [
        "# this is r_vector\n",
        "x = ufl.SpatialCoordinate(domain)"
      ]
    },
    {
      "cell_type": "markdown",
      "metadata": {
        "id": "hl1UhpoAvwsv"
      },
      "source": [
        "lets write a linear polynomial:\n",
        "\n",
        "$u(x,y)=1+5x+3y$\n",
        "\n"
      ]
    },
    {
      "cell_type": "code",
      "execution_count": 72,
      "metadata": {
        "id": "hi36k1hUwXjw"
      },
      "outputs": [],
      "source": [
        "U_exact=1+5*x[0]+3*x[1]"
      ]
    },
    {
      "cell_type": "markdown",
      "metadata": {
        "id": "nXWK5eC7w5RM"
      },
      "source": [
        "$u(x,y)=2+3x^2y^2+\\sqrt(y)$"
      ]
    },
    {
      "cell_type": "code",
      "execution_count": 73,
      "metadata": {
        "id": "6V0HUGNhxOLp"
      },
      "outputs": [],
      "source": [
        "\n",
        "U_1=2+3*(x[0]**2)*(x[1]**2)+sqrt(x[1])"
      ]
    },
    {
      "cell_type": "markdown",
      "metadata": {
        "id": "3iWhyFh4x_Dq"
      },
      "source": [
        "Let's check if it works"
      ]
    },
    {
      "cell_type": "code",
      "execution_count": 74,
      "metadata": {
        "colab": {
          "base_uri": "https://localhost:8080/"
        },
        "id": "INcK5tfKyCyr",
        "outputId": "e8d4652f-0f8c-4f48-bec2-467f290ed7a8"
      },
      "outputs": [
        {
          "name": "stdout",
          "output_type": "stream",
          "text": [
            "15.414213562373096\n"
          ]
        }
      ],
      "source": [
        "u_1 = lambda x: eval(str(U_1))\n",
        "\n",
        "#lambda is a python thing to make functions, here it is telling to \n",
        "#i) convert UFL to string\n",
        "#ii) Evaluate the string\n",
        "#iii) Take x as input\n",
        "#iv) u_exact is a function\n",
        "print(u_1([1,2]))"
      ]
    },
    {
      "cell_type": "markdown",
      "metadata": {
        "id": "aUP-4r4Y0FwT"
      },
      "source": [
        "# Reference fror UFL\n",
        "\n",
        "## the page contains all the functions and expressions that can be used\n",
        "\n",
        "https://fenicsproject.org/olddocs/ufl/1.5.0/ufl.html\n",
        "\n",
        "# Best Reference: the documentation\n",
        "\n",
        "https://buildmedia.readthedocs.org/media/pdf/fenics-ufl/latest/fenics-ufl.pdf"
      ]
    },
    {
      "cell_type": "markdown",
      "metadata": {
        "id": "AhiacQY06UNf"
      },
      "source": [
        "The in-built functions that are available:\n",
        "\n",
        "max_value, min_value,\n",
        "\n",
        "abs, sign, sqrt,\n",
        "\n",
        "exp, ln, erf,\n",
        "\n",
        "cos, sin, tan,\n",
        "\n",
        "acos, asin, atan, atan_2,\n",
        "\n",
        "cosh, sinh, tanh,\n",
        "\n",
        "bessel_J, bessel_Y, bessel_I, bessel_K\n",
        "\n",
        "\n",
        "#Example"
      ]
    },
    {
      "cell_type": "markdown",
      "metadata": {
        "id": "5oxvowHm65E-"
      },
      "source": [
        "$u(x,y)=1+x^2e^y+\\sqrt(\\sinh(xy))$"
      ]
    },
    {
      "cell_type": "code",
      "execution_count": 75,
      "metadata": {
        "colab": {
          "base_uri": "https://localhost:8080/"
        },
        "id": "UVM5xOVO7TO9",
        "outputId": "a1f644fd-29cf-460a-f918-9f04d7cd2b71"
      },
      "outputs": [
        {
          "name": "stdout",
          "output_type": "stream",
          "text": [
            "24.250639595678706\n"
          ]
        }
      ],
      "source": [
        "u_e=1+(x[0]**2)*exp(x[1])+sqrt(sinh(x[0]*x[1]))\n",
        "u_f=lambda x: eval(str(u_e))\n",
        "print(u_f([1,3]))"
      ]
    },
    {
      "cell_type": "markdown",
      "metadata": {
        "id": "wYBFQox0-JXQ"
      },
      "source": [
        "$u(x,y)=\\ln(x^2+y^2)$"
      ]
    },
    {
      "cell_type": "code",
      "execution_count": 76,
      "metadata": {
        "colab": {
          "base_uri": "https://localhost:8080/"
        },
        "id": "Lai5q2y_-SQs",
        "outputId": "92f685d4-c581-48e2-d219-419ea532c019"
      },
      "outputs": [
        {
          "name": "stdout",
          "output_type": "stream",
          "text": [
            "0.0\n"
          ]
        }
      ],
      "source": [
        "u_1=ln(x[0]**2+x[1]**2)\n",
        "U1=lambda x: eval(str(u_1))\n",
        "print(U1([1,0]))"
      ]
    },
    {
      "cell_type": "markdown",
      "metadata": {
        "id": "taC7Gvds-18y"
      },
      "source": [
        "## 3 dimensional expression\n",
        "\n",
        "$u(x,y,z)=x^2y^3z^4$"
      ]
    },
    {
      "cell_type": "code",
      "execution_count": 77,
      "metadata": {
        "colab": {
          "base_uri": "https://localhost:8080/"
        },
        "id": "CQ8bI-eh_NFU",
        "outputId": "3795806b-ce18-43ff-e413-062efee0dfa8"
      },
      "outputs": [
        {
          "name": "stdout",
          "output_type": "stream",
          "text": [
            "1 all ones\n",
            "4 x=2\n",
            "8 y=2\n",
            "16 z=2\n"
          ]
        }
      ],
      "source": [
        "trial_mesh= mesh.create_unit_cube(MPI.COMM_WORLD, 50, 50,50)\n",
        "#3d geometry where we will work\n",
        "x = ufl.SpatialCoordinate(trial_mesh)\n",
        "#this is the vector for 3d geometry\n",
        "U_t=(x[0]**2)*(x[1]**3)*(x[2]**4)\n",
        "# this is the expression\n",
        "Ut=lambda x: eval(str(U_t))\n",
        "# this is the function\n",
        "print(Ut([1,1,1]),'all ones')\n",
        "print(Ut([2,1,1]),'x=2')\n",
        "print(Ut([1,2,1]),'y=2')\n",
        "print(Ut([1,1,2]),'z=2')"
      ]
    },
    {
      "cell_type": "markdown",
      "metadata": {
        "id": "wv_ynf5jAV2g"
      },
      "source": [
        "#Exercise 1\n",
        "\n",
        "$u(x,y,z)=1+2x+3y+4z$\n",
        "follow the comments"
      ]
    },
    {
      "cell_type": "code",
      "execution_count": null,
      "metadata": {
        "id": "yjcyZpYZAvx8"
      },
      "outputs": [],
      "source": [
        "\n",
        "#Create Geometry and Mesh 3d\n",
        "#Create x vector\n",
        "# Write the expression\n",
        "# Make it a function\n",
        "# Evaluate it and print it at [1,1,1]"
      ]
    },
    {
      "cell_type": "markdown",
      "metadata": {
        "id": "EUjI2_uzBdXP"
      },
      "source": [
        "#Exercise 2\n",
        "\n",
        "$u(x,y)=1+\\sin(x)*\\cos(3y)$\n",
        "follow the comments\n",
        "\n"
      ]
    },
    {
      "cell_type": "code",
      "execution_count": null,
      "metadata": {
        "id": "3-R_CK0yBtHj"
      },
      "outputs": [],
      "source": [
        "#Create Geometry and Mesh 2d\n",
        "#Create x vector\n",
        "# Write the expression\n",
        "# Make it a function\n",
        "# Evaluate it and print it at [1,1]"
      ]
    },
    {
      "cell_type": "markdown",
      "metadata": {
        "id": "yHBH59p1Gped"
      },
      "source": [
        "\n",
        "\n",
        "\n",
        "# Custom Functions\n",
        "\n",
        "\n",
        "---\n",
        "\n"
      ]
    },
    {
      "cell_type": "markdown",
      "metadata": {
        "id": "7YCN_EpyOjj8"
      },
      "source": [
        "One thing about all the previous codes was that we begin with a UFL expression and ending with a python function that we can call. \n",
        "# e.g."
      ]
    },
    {
      "cell_type": "code",
      "execution_count": 78,
      "metadata": {
        "id": "7k2S9yfVS0IM"
      },
      "outputs": [],
      "source": [
        "trial_mesh= mesh.create_unit_square(MPI.COMM_WORLD,50,50)\n",
        "#2d geometry where we will work\n",
        "x = ufl.SpatialCoordinate(trial_mesh)"
      ]
    },
    {
      "cell_type": "code",
      "execution_count": 79,
      "metadata": {
        "id": "U5HjfKaKO0H6"
      },
      "outputs": [],
      "source": [
        "Expression=sin(x[0]**3+x[1]**3)  # the UFL expression\n",
        "function=lambda x: eval(str(Expression))  # the function"
      ]
    },
    {
      "cell_type": "code",
      "execution_count": 80,
      "metadata": {
        "colab": {
          "base_uri": "https://localhost:8080/"
        },
        "id": "MjHkyxUkPF3K",
        "outputId": "8d9735b5-b6f1-43d5-dcfd-f0b0064cfd1a"
      },
      "outputs": [
        {
          "name": "stdout",
          "output_type": "stream",
          "text": [
            "0.8414709848078965\n"
          ]
        }
      ],
      "source": [
        "output_UFL=function([1,0])\n",
        "print(output_UFL)"
      ]
    },
    {
      "cell_type": "markdown",
      "metadata": {
        "id": "LPx9_0NMPx5s"
      },
      "source": [
        "Instead we can also make custom functions using numpy functions, such that they take an array as input i.e. []"
      ]
    },
    {
      "cell_type": "code",
      "execution_count": 81,
      "metadata": {
        "id": "pv831rcZP9NR"
      },
      "outputs": [],
      "source": [
        "def custom_function(x):\n",
        "  return numpy.sin(x[0]**3+x[1]**3)\n"
      ]
    },
    {
      "cell_type": "code",
      "execution_count": 82,
      "metadata": {
        "colab": {
          "base_uri": "https://localhost:8080/"
        },
        "id": "B7Chmf92QPMK",
        "outputId": "ba686769-91a7-40c0-89bc-9618d2181fbc"
      },
      "outputs": [
        {
          "name": "stdout",
          "output_type": "stream",
          "text": [
            "0.8414709848078965\n"
          ]
        }
      ],
      "source": [
        "output_C=custom_function([1,0])\n",
        "print(output_C)"
      ]
    },
    {
      "cell_type": "markdown",
      "metadata": {
        "id": "fZ8y6bGUQjR0"
      },
      "source": [
        "# So why UFL functions? \n",
        "\n",
        "## because they can be processed using UFL Operators like \n",
        "\n",
        "## $\\nabla$\n",
        "## $\\nabla^2$\n",
        "\n",
        "## $\\nabla \\times ̇$\n",
        "\n",
        "we will use the laplacian operator with an UFL cubic expression"
      ]
    },
    {
      "cell_type": "code",
      "execution_count": 83,
      "metadata": {
        "colab": {
          "base_uri": "https://localhost:8080/"
        },
        "id": "OHrRvPvRR5-s",
        "outputId": "3cd6bea0-abf0-4324-973e-0500d93e2e8f"
      },
      "outputs": [
        {
          "name": "stdout",
          "output_type": "stream",
          "text": [
            "div(grad(sin(x[0] ** 3 + x[1] ** 3)))\n",
            "<class 'ufl.differentiation.Div'>\n"
          ]
        }
      ],
      "source": [
        "f=div(grad(Expression))\n",
        "print(f)\n",
        "print(type(f))"
      ]
    },
    {
      "cell_type": "markdown",
      "metadata": {
        "id": "b39eRLbpemTG"
      },
      "source": [
        "# this form can be directly used in weak forms"
      ]
    },
    {
      "cell_type": "code",
      "execution_count": 84,
      "metadata": {
        "colab": {
          "base_uri": "https://localhost:8080/"
        },
        "id": "SlsmOYW4SNXb",
        "outputId": "fca37387-7589-44ea-f0ab-b1750e2401d2"
      },
      "outputs": [
        {
          "name": "stdout",
          "output_type": "stream",
          "text": [
            "<class 'ufl.form.Form'>\n"
          ]
        }
      ],
      "source": [
        "V = fem.FunctionSpace(trial_mesh, (\"CG\", 1))\n",
        "v = ufl.TestFunction(V)\n",
        "F=f*v*dx\n",
        "print(type(F))"
      ]
    },
    {
      "cell_type": "markdown",
      "metadata": {
        "id": "fFBydArJfp8A"
      },
      "source": [
        "# The f expression can be directly used to create a forcing function\n",
        "\n",
        "# custom functions of test function can be used in UFL as well"
      ]
    },
    {
      "cell_type": "code",
      "execution_count": 85,
      "metadata": {
        "colab": {
          "base_uri": "https://localhost:8080/"
        },
        "id": "KlSzxIOjSb8e",
        "outputId": "f69f8467-6866-49a1-c73c-b785f6a65a1d"
      },
      "outputs": [
        {
          "name": "stdout",
          "output_type": "stream",
          "text": [
            "<class 'ufl.form.Form'>\n"
          ]
        }
      ],
      "source": [
        "def A(u):\n",
        "  return 5*u\n",
        "\n",
        "\n",
        "uh=ufl.TrialFunction(V)\n",
        "Bilinear=A(uh)*inner(grad(uh),grad(v))*dx\n",
        "print(type(Bilinear))"
      ]
    },
    {
      "cell_type": "markdown",
      "metadata": {
        "id": "9Yte1iAbi7Yp"
      },
      "source": [
        "# Exercise: Custom Function\n",
        "\n",
        "define a custom function to return $u^3+u^2$"
      ]
    },
    {
      "cell_type": "code",
      "execution_count": null,
      "metadata": {
        "id": "Z0Vorzb7i6xX"
      },
      "outputs": [],
      "source": [
        "#define function\n",
        "#return value "
      ]
    },
    {
      "cell_type": "markdown",
      "metadata": {
        "id": "num3f9qcieMT"
      },
      "source": [
        "# in the next workbook we will use expressions to define boundary"
      ]
    }
  ],
  "metadata": {
    "colab": {
      "provenance": []
    },
    "kernelspec": {
      "display_name": "Python 3",
      "name": "python3"
    },
    "language_info": {
      "name": "python"
    }
  },
  "nbformat": 4,
  "nbformat_minor": 0
}
